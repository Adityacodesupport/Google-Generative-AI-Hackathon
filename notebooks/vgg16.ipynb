{
 "cells": [
  {
   "cell_type": "code",
   "execution_count": 20,
   "metadata": {},
   "outputs": [],
   "source": [
    "import tensorflow as tf\n",
    "from tensorflow.keras.applications.vgg16 import VGG16\n",
    "from tensorflow.keras.applications.resnet50 import ResNet50\n",
    "from tensorflow.keras.layers import Dense, GlobalAveragePooling2D\n",
    "from tensorflow.keras.models import Model\n",
    "from tensorflow.keras.optimizers import Adam\n",
    "from tensorflow.keras.preprocessing.image import ImageDataGenerator"
   ]
  },
  {
   "cell_type": "code",
   "execution_count": 23,
   "metadata": {},
   "outputs": [],
   "source": [
    "# Preprocessing and data preparation\n",
    "train_data_dir = r\"C:\\Users\\Adity\\OneDrive\\Desktop\\Generative AI Hackathon\\Brain_tumor\\Brain_tumour\\dataset\\Training\"\n",
    "validation_data_dir = r\"C:\\Users\\Adity\\OneDrive\\Desktop\\Generative AI Hackathon\\Brain_tumor\\Brain_tumour\\dataset\\Testing\"\n",
    "img_width, img_height = 224, 224\n",
    "batch_size = 32\n",
    "num_epochs = 20\n",
    "\n",
    "# Data augmentation\n",
    "train_datagen = ImageDataGenerator(\n",
    "    rescale=1. / 255,\n",
    "    shear_range=0.2,\n",
    "    zoom_range=0.2,\n",
    "    horizontal_flip=True\n",
    ")\n"
   ]
  },
  {
   "cell_type": "code",
   "execution_count": 24,
   "metadata": {},
   "outputs": [
    {
     "name": "stdout",
     "output_type": "stream",
     "text": [
      "Found 2870 images belonging to 4 classes.\n",
      "Found 394 images belonging to 4 classes.\n"
     ]
    }
   ],
   "source": [
    "validation_datagen = ImageDataGenerator(rescale=1. / 255)\n",
    "\n",
    "train_generator = train_datagen.flow_from_directory(\n",
    "    train_data_dir,\n",
    "    target_size=(img_width, img_height),\n",
    "    batch_size=batch_size,\n",
    "    class_mode='categorical'\n",
    ")\n",
    "\n",
    "validation_generator = validation_datagen.flow_from_directory(\n",
    "    validation_data_dir,\n",
    "    target_size=(img_width, img_height),\n",
    "    batch_size=batch_size,\n",
    "    class_mode='categorical'\n",
    ")\n"
   ]
  },
  {
   "cell_type": "code",
   "execution_count": 25,
   "metadata": {},
   "outputs": [],
   "source": [
    "# Load the VGG16 model without the top layers\n",
    "base_model = VGG16(weights='imagenet', include_top=False, input_shape=(img_width, img_height, 3))\n",
    "\n",
    "# Freeze the layers in the base model\n",
    "for layer in base_model.layers:\n",
    "    layer.trainable = False\n",
    "\n",
    "# Add custom layers for brain tumor classification\n",
    "x = base_model.output\n",
    "x = GlobalAveragePooling2D()(x)\n",
    "x = Dense(128, activation='relu')(x)\n",
    "predictions = Dense(4, activation='softmax')(x)"
   ]
  },
  {
   "cell_type": "code",
   "execution_count": 26,
   "metadata": {},
   "outputs": [
    {
     "name": "stdout",
     "output_type": "stream",
     "text": [
      "Epoch 1/20\n",
      "89/89 [==============================] - 182s 2s/step - loss: 1.1358 - accuracy: 0.5116 - val_loss: 1.4145 - val_accuracy: 0.3594\n",
      "Epoch 2/20\n",
      "89/89 [==============================] - 183s 2s/step - loss: 0.8603 - accuracy: 0.6684 - val_loss: 1.4650 - val_accuracy: 0.4427\n",
      "Epoch 3/20\n",
      "89/89 [==============================] - 181s 2s/step - loss: 0.7368 - accuracy: 0.7241 - val_loss: 1.6425 - val_accuracy: 0.4245\n",
      "Epoch 4/20\n",
      "89/89 [==============================] - 200s 2s/step - loss: 0.6396 - accuracy: 0.7660 - val_loss: 1.5914 - val_accuracy: 0.4688\n",
      "Epoch 5/20\n",
      "89/89 [==============================] - 200s 2s/step - loss: 0.6083 - accuracy: 0.7710 - val_loss: 1.6023 - val_accuracy: 0.4844\n",
      "Epoch 6/20\n",
      "89/89 [==============================] - 196s 2s/step - loss: 0.5652 - accuracy: 0.7847 - val_loss: 1.6994 - val_accuracy: 0.4948\n",
      "Epoch 7/20\n",
      "89/89 [==============================] - 186s 2s/step - loss: 0.5300 - accuracy: 0.8009 - val_loss: 1.8532 - val_accuracy: 0.4818\n",
      "Epoch 8/20\n",
      "89/89 [==============================] - 184s 2s/step - loss: 0.5180 - accuracy: 0.8002 - val_loss: 1.4786 - val_accuracy: 0.5234\n",
      "Epoch 9/20\n",
      "89/89 [==============================] - 184s 2s/step - loss: 0.4915 - accuracy: 0.8115 - val_loss: 1.5138 - val_accuracy: 0.5391\n",
      "Epoch 10/20\n",
      "89/89 [==============================] - 184s 2s/step - loss: 0.4848 - accuracy: 0.8196 - val_loss: 1.7268 - val_accuracy: 0.4922\n",
      "Epoch 11/20\n",
      "89/89 [==============================] - 197s 2s/step - loss: 0.4613 - accuracy: 0.8192 - val_loss: 1.5510 - val_accuracy: 0.5573\n",
      "Epoch 12/20\n",
      "89/89 [==============================] - 185s 2s/step - loss: 0.4572 - accuracy: 0.8263 - val_loss: 1.8027 - val_accuracy: 0.5495\n",
      "Epoch 13/20\n",
      "89/89 [==============================] - 190s 2s/step - loss: 0.4361 - accuracy: 0.8326 - val_loss: 1.5424 - val_accuracy: 0.5391\n",
      "Epoch 14/20\n",
      "89/89 [==============================] - 189s 2s/step - loss: 0.4376 - accuracy: 0.8325 - val_loss: 1.6040 - val_accuracy: 0.5651\n",
      "Epoch 15/20\n",
      "89/89 [==============================] - 217s 2s/step - loss: 0.4281 - accuracy: 0.8337 - val_loss: 1.5739 - val_accuracy: 0.5521\n",
      "Epoch 16/20\n",
      "89/89 [==============================] - 194s 2s/step - loss: 0.4176 - accuracy: 0.8457 - val_loss: 1.4764 - val_accuracy: 0.5781\n",
      "Epoch 17/20\n",
      "89/89 [==============================] - 183s 2s/step - loss: 0.4077 - accuracy: 0.8418 - val_loss: 1.6252 - val_accuracy: 0.5781\n",
      "Epoch 18/20\n",
      "89/89 [==============================] - 182s 2s/step - loss: 0.4111 - accuracy: 0.8383 - val_loss: 1.5680 - val_accuracy: 0.5859\n",
      "Epoch 19/20\n",
      "89/89 [==============================] - 182s 2s/step - loss: 0.3949 - accuracy: 0.8499 - val_loss: 1.6757 - val_accuracy: 0.5573\n",
      "Epoch 20/20\n",
      "89/89 [==============================] - 183s 2s/step - loss: 0.3887 - accuracy: 0.8545 - val_loss: 1.4663 - val_accuracy: 0.5807\n"
     ]
    },
    {
     "data": {
      "text/plain": [
       "<keras.src.callbacks.History at 0x283341f8ee0>"
      ]
     },
     "execution_count": 26,
     "metadata": {},
     "output_type": "execute_result"
    }
   ],
   "source": [
    "# Create the model\n",
    "model = Model(inputs=base_model.input, outputs=predictions)\n",
    "\n",
    "# Compile the model\n",
    "model.compile(optimizer=Adam(learning_rate=0.001), loss='categorical_crossentropy', metrics=['accuracy'])\n",
    "\n",
    "# Train the model\n",
    "model.fit(\n",
    "    train_generator,\n",
    "    steps_per_epoch=train_generator.samples // batch_size,\n",
    "    epochs=num_epochs,\n",
    "    validation_data=validation_generator,\n",
    "    validation_steps=validation_generator.samples // batch_size\n",
    ")\n"
   ]
  },
  {
   "cell_type": "code",
   "execution_count": 18,
   "metadata": {},
   "outputs": [
    {
     "name": "stdout",
     "output_type": "stream",
     "text": [
      "Model: \"model\"\n",
      "_________________________________________________________________\n",
      " Layer (type)                Output Shape              Param #   \n",
      "=================================================================\n",
      " input_1 (InputLayer)        [(None, 224, 224, 3)]     0         \n",
      "                                                                 \n",
      " block1_conv1 (Conv2D)       (None, 224, 224, 64)      1792      \n",
      "                                                                 \n",
      " block1_conv2 (Conv2D)       (None, 224, 224, 64)      36928     \n",
      "                                                                 \n",
      " block1_pool (MaxPooling2D)  (None, 112, 112, 64)      0         \n",
      "                                                                 \n",
      " block2_conv1 (Conv2D)       (None, 112, 112, 128)     73856     \n",
      "                                                                 \n",
      " block2_conv2 (Conv2D)       (None, 112, 112, 128)     147584    \n",
      "                                                                 \n",
      " block2_pool (MaxPooling2D)  (None, 56, 56, 128)       0         \n",
      "                                                                 \n",
      " block3_conv1 (Conv2D)       (None, 56, 56, 256)       295168    \n",
      "                                                                 \n",
      " block3_conv2 (Conv2D)       (None, 56, 56, 256)       590080    \n",
      "                                                                 \n",
      " block3_conv3 (Conv2D)       (None, 56, 56, 256)       590080    \n",
      "                                                                 \n",
      " block3_pool (MaxPooling2D)  (None, 28, 28, 256)       0         \n",
      "                                                                 \n",
      " block4_conv1 (Conv2D)       (None, 28, 28, 512)       1180160   \n",
      "                                                                 \n",
      " block4_conv2 (Conv2D)       (None, 28, 28, 512)       2359808   \n",
      "                                                                 \n",
      " block4_conv3 (Conv2D)       (None, 28, 28, 512)       2359808   \n",
      "                                                                 \n",
      " block4_pool (MaxPooling2D)  (None, 14, 14, 512)       0         \n",
      "                                                                 \n",
      " block5_conv1 (Conv2D)       (None, 14, 14, 512)       2359808   \n",
      "                                                                 \n",
      " block5_conv2 (Conv2D)       (None, 14, 14, 512)       2359808   \n",
      "                                                                 \n",
      " block5_conv3 (Conv2D)       (None, 14, 14, 512)       2359808   \n",
      "                                                                 \n",
      " block5_pool (MaxPooling2D)  (None, 7, 7, 512)         0         \n",
      "                                                                 \n",
      " global_average_pooling2d (  (None, 512)               0         \n",
      " GlobalAveragePooling2D)                                         \n",
      "                                                                 \n",
      " dense (Dense)               (None, 128)               65664     \n",
      "                                                                 \n",
      " dense_1 (Dense)             (None, 2)                 258       \n",
      "                                                                 \n",
      "=================================================================\n",
      "Total params: 14780610 (56.38 MB)\n",
      "Trainable params: 65922 (257.51 KB)\n",
      "Non-trainable params: 14714688 (56.13 MB)\n",
      "_________________________________________________________________\n"
     ]
    }
   ],
   "source": [
    "model.summary()"
   ]
  },
  {
   "cell_type": "code",
   "execution_count": 22,
   "metadata": {},
   "outputs": [
    {
     "name": "stdout",
     "output_type": "stream",
     "text": [
      "INFO:tensorflow:Assets written to: C:/Users/Adity/OneDrive/Desktop/Year2022-2023/BEProject/Implementation/Brain_tumour/saved_models2/pretrained/1\\assets\n"
     ]
    },
    {
     "name": "stderr",
     "output_type": "stream",
     "text": [
      "INFO:tensorflow:Assets written to: C:/Users/Adity/OneDrive/Desktop/Year2022-2023/BEProject/Implementation/Brain_tumour/saved_models2/pretrained/1\\assets\n"
     ]
    }
   ],
   "source": [
    "# Save the model\n",
    "model_version= 1\n",
    "model.save(f\"C:/Users/Adity/OneDrive/Desktop/Year2022-2023/BEProject/Implementation/Brain_tumour/saved_models2/pretrained/{model_version}\")"
   ]
  }
 ],
 "metadata": {
  "kernelspec": {
   "display_name": "Python 3",
   "language": "python",
   "name": "python3"
  },
  "language_info": {
   "codemirror_mode": {
    "name": "ipython",
    "version": 3
   },
   "file_extension": ".py",
   "mimetype": "text/x-python",
   "name": "python",
   "nbconvert_exporter": "python",
   "pygments_lexer": "ipython3",
   "version": "3.10.2"
  },
  "orig_nbformat": 4
 },
 "nbformat": 4,
 "nbformat_minor": 2
}
